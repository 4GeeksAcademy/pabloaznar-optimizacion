{
 "cells": [
  {
   "attachments": {},
   "cell_type": "markdown",
   "id": "27b09e13",
   "metadata": {},
   "source": [
    "# Problemas de optimización de algoritmos"
   ]
  },
  {
   "cell_type": "code",
   "execution_count": 124,
   "id": "4dc81d2f",
   "metadata": {},
   "outputs": [],
   "source": [
    "import string\n",
    "import math\n",
    "from collections import Counter"
   ]
  },
  {
   "attachments": {},
   "cell_type": "markdown",
   "id": "ed05e9bf",
   "metadata": {},
   "source": [
    "## Ejercicio 1\n",
    "### Optimización de código para procesamiento de texto\n",
    "\n",
    "Se te ha entregado un código de procesamiento de texto que realiza las siguientes operaciones:\n",
    "\n",
    "1. Convierte todo el texto a minúsculas.\n",
    "2. Elimina los signos de puntuación.\n",
    "3. Cuenta la frecuencia de cada palabra.\n",
    "4. Muestra las 5 palabras mas comunes.\n",
    "\n",
    "El código funciona, pero es ineficiente y puede optimizarse. Tu tarea es identificar las áreas que pueden ser mejoradas y reescribir esas partes para hacer el código mas eficiente y legible.\n"
   ]
  },
  {
   "cell_type": "markdown",
   "id": "3c948ab6",
   "metadata": {},
   "source": [
    "## Eplicacion del codigo\n",
    "- Utilizamos los metodos maketrans y translate conjuntamente para eliminar los signos de puntuacion(string.puntuation)\n",
    "- Utilizamos el metodo split para dividir el texto en una lista en la que cada valor es un string con cada palabra\n",
    "- Utilizamos la clase Counter del modulo collections para contar la frecuencia de cada elemento de la lista words\n",
    "- Utilizamos el metodo most_common para obtener los 5 elementos más frecuentes y lo convertimos en un diccionario para mostras los resultados "
   ]
  },
  {
   "cell_type": "code",
   "execution_count": 61,
   "id": "1a682393",
   "metadata": {},
   "outputs": [
    {
     "data": {
      "text/plain": [
       "{'the': 5, 'of': 3, 'in': 2, 'a': 2, 'she': 2}"
      ]
     },
     "execution_count": 61,
     "metadata": {},
     "output_type": "execute_result"
    }
   ],
   "source": [
    "def process_text(text):\n",
    "    unpunctuated_text = text.lower().translate(str.maketrans('','', string.punctuation))\n",
    "    words = unpunctuated_text.split() \n",
    "    five_most_frequently_words = dict(Counter(words).most_common(5))\n",
    "    return  five_most_frequently_words\n",
    "\n",
    "\n",
    "text = \"\"\"In the heart of the city, Emily discovered a quaint little café, hidden away from the bustling streets. \n",
    "        The aroma of freshly baked pastries wafted through the air, drawing in passersby. As she sipped on her latte, \n",
    "        she noticed an old bookshelf filled with classics, creating a cozy atmosphere that made her lose track of time.\"\"\"\n",
    "\n",
    "process_text(text)"
   ]
  },
  {
   "cell_type": "markdown",
   "id": "29040779",
   "metadata": {},
   "source": [
    "### Puntos a optimizar:\n",
    "\n",
    "1. **Eliminar los signos de puntuación**: Usar `replace`  en un ciclo puede ser ineficiente, especialmente con textos largos. Busca una formas eficiente de eliminar los signos de puntuación.\n",
    "2. **Contador de frecuencia**: El código verifica la existencia de cada palabra en el diccionario y luego actualiza su cuenta. Esto puede hacerse mas eficientemente con ciertas estructuras de datos en Python.\n",
    "3. **Ordenar y seleccionar:** Considera si hay una forma mas directa o efectiva de obtener las 5 palabras mas frecuentes sin ordenar todas las palabras.\n",
    "4. **Modularidad**: Divide el código en funciones mas pequeñas para que cada una puede realizar una tarea específica. Esto no solo optimizará el desempeño, sino también hará el código mas legible y mantenible."
   ]
  },
  {
   "attachments": {},
   "cell_type": "markdown",
   "id": "011996bc",
   "metadata": {},
   "source": [
    "## Ejercicio 2\n",
    "### Optimización de código para procesamiento de listas\n",
    "\n",
    "Se te ha dado el siguiente código que realiza operaciones en una lista de números para:\n",
    "\n",
    "1. Filtrar los números pares.\n",
    "2. Duplicar cada número.\n",
    "3. Sumar todos los números.\n",
    "4. Verificar si el resultado es un número primo.\n",
    "\n",
    "El código entregado logra los objetivos, pero puede ser ineficiente. Tu tarea es identificar y mejorar las partes de ese código para mejorar su eficiencia."
   ]
  },
  {
   "cell_type": "markdown",
   "id": "a968b150",
   "metadata": {},
   "source": [
    "## Hemos dividido el codigo en 3 funciones, todas ellas de una sola linea:\n",
    "- def is_even : Filtra los numero pares\n",
    "- def sum_of_double: Devuelve el sumatorio del duplicado de una lista de numeros \n",
    "- def is_prime: Devuelve si un numero es primo"
   ]
  },
  {
   "cell_type": "code",
   "execution_count": 123,
   "id": "43e5dd16",
   "metadata": {},
   "outputs": [
    {
     "data": {
      "text/plain": [
       "'The number 60 is not prime'"
      ]
     },
     "execution_count": 123,
     "metadata": {},
     "output_type": "execute_result"
    }
   ],
   "source": [
    "def is_even(numbers):  \n",
    "    return [number for number in numbers if number % 2 == 0]\n",
    "\n",
    "\n",
    "def sum_of_double(numbers):\n",
    "    return sum([number * 2 for number in numbers])\n",
    "\n",
    "\n",
    "def is_prime(x):\n",
    "    return f'The number {x} is not prime' if x <= 1 or any(x % i == 0 for i in range(2, int(math.sqrt(x)) + 1)) else f'The number {x} is prime'\n",
    "\n",
    "\n",
    "list_ = [1, 2, 3, 4, 5, 6, 7, 8, 9, 10]\n",
    "\n",
    "is_prime(sum_of_double(is_even(list_)))"
   ]
  },
  {
   "cell_type": "markdown",
   "id": "128d564e",
   "metadata": {},
   "source": [
    "### Puntos a optimizar:\n",
    "\n",
    "1. **Filtrar las números**: El código recorre la lista original para filtrar los números pares. Considera una forma mas eficiente de filtrar la lista.\n",
    "2. **Duplicación**: La lista es atravesada varias veces. ¿Hay alguna manera de hacer esto mas eficientemente?\n",
    "3. **Suma**: Los números en la lista se suman a traves de un bucle. Python trae incluidas unas funciones que pueden optimizar esto.\n",
    "4. **Función `is_prime`**: Aunque ésta función es relativamente eficiente, investiga si hay maneras de hacerla aun más rápida.\n",
    "5. **Modularidad**: Considera dividir el código en funciones más pequeñas, cada una enfocada en una tarea específica."
   ]
  },
  {
   "attachments": {},
   "cell_type": "markdown",
   "id": "1af70806",
   "metadata": {},
   "source": [
    "Ambos ejercicios  ayudarán a mejorar tu habilidad de optimizar el desempeño del código y te darán un mejor entendimiento de como las diferentes estructuras de datos y técnicas de programación pueden afectar la eficiencia de tu código."
   ]
  }
 ],
 "metadata": {
  "kernelspec": {
   "display_name": "Python 3",
   "language": "python",
   "name": "python3"
  },
  "language_info": {
   "codemirror_mode": {
    "name": "ipython",
    "version": 3
   },
   "file_extension": ".py",
   "mimetype": "text/x-python",
   "name": "python",
   "nbconvert_exporter": "python",
   "pygments_lexer": "ipython3",
   "version": "3.11.4"
  }
 },
 "nbformat": 4,
 "nbformat_minor": 5
}
